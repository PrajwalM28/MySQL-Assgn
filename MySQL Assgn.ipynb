{
 "cells": [
  {
   "cell_type": "markdown",
   "id": "ad826b6b-091d-4b5e-8381-0839f0b5ab0a",
   "metadata": {},
   "source": [
    "## Q1."
   ]
  },
  {
   "cell_type": "markdown",
   "id": "8613b294-df80-4949-959b-f5bfca1bbd29",
   "metadata": {},
   "source": [
    "\"\"\"\n",
    "A database is a structured collection of data that is organized and stored in a way that allows for efficient data retrieval, management, and manipulation.\n",
    " \n",
    "SQL :\n",
    " -  SQL databases are relational databases, which means they use a structured schema with tables, rows, and columns to store data. \n",
    " \n",
    " -  SQL databases have a fixed schema, which means the structure of the database, including the tables and their columns, needs to be defined in advance. \n",
    " \n",
    " - SQL databases use the SQL language for querying and managing data. \n",
    " \n",
    " \n",
    "NoSQL :\n",
    " - NoSQL databases are non-relational databases that can have various data models.\n",
    " \n",
    " -  NoSQL databases are schema-flexible, allowing for dynamic or schema-less data. \n",
    " \n",
    " - NoSQL databases use various query languages or APIs specific to their data model. \n",
    " \"\"\"\n"
   ]
  },
  {
   "cell_type": "markdown",
   "id": "b8ec7b31-5a48-4c3e-aa17-502025b4d180",
   "metadata": {},
   "source": [
    "## Q2."
   ]
  },
  {
   "cell_type": "markdown",
   "id": "f355afb5-61b8-4995-9df2-5f5a90310b53",
   "metadata": {},
   "source": [
    "\"\"\"\n",
    "DDL stands for \"Data Definition Language,\" which is a subset of SQL used to define, manage, and manipulate the structure of a database.\n",
    "\n",
    " - The CREATE statement is used to create new database objects, such as tables, views, indexes, and constraints.\n",
    " \n",
    " - The DROP statement is used to delete existing database objects, such as tables, views, and indexes. Once an object is dropped, its data and structure are removed from the database.\n",
    " \n",
    " - The ALTER statement is used to modify an existing database object, such as adding, modifying, or deleting columns in a table, or changing constraints or indexes.\n",
    " \n",
    " - The TRUNCATE statement is used to quickly delete all data from a table while keeping the table structure intact. It is faster than using the DELETE statement, as it doesn't log individual row deletions and is typically used for bulk data removal.\n",
    " \n",
    "\"\"\"\n",
    " "
   ]
  },
  {
   "cell_type": "markdown",
   "id": "4ad7b232-fdf3-475f-b6a3-0a2b021d09c6",
   "metadata": {},
   "source": [
    "## Q3."
   ]
  },
  {
   "cell_type": "markdown",
   "id": "4c51534c-19da-48d9-ab38-d9887626dc54",
   "metadata": {},
   "source": [
    "\"\"\"\n",
    "DML stands for \"Data Manipulation Language,\" which is a subset of SQL used to manipulate and interact with the data stored in a database. \n",
    "\n",
    " - The INSERT statement is used to add new records (rows) into a database table.\n",
    " \n",
    " - The UPDATE statement is used to modify existing records in a database table. You can specify the columns to update and the new values.\n",
    " \n",
    " - The DELETE statement is used to remove records from a database table based on specified conditions.\n",
    " \n",
    "\"\"\""
   ]
  },
  {
   "cell_type": "markdown",
   "id": "bfda0f42-e9b8-4099-b797-ad89193a4ec3",
   "metadata": {},
   "source": [
    "## Q4."
   ]
  },
  {
   "cell_type": "markdown",
   "id": "7fc92b5d-415b-4b46-9370-e51256473c80",
   "metadata": {},
   "source": [
    "\"\"\"\n",
    "DQL stands for \"Data Query Language,\" which is a subset of SQL used for querying and retrieving data from a database. \n",
    "\n",
    " - The SELECT statement is used to retrieve data from one or more tables in a database.\n",
    " \n",
    " \"\"\""
   ]
  },
  {
   "cell_type": "markdown",
   "id": "c8004b6d-1643-4788-b59a-a4a50670fdaa",
   "metadata": {},
   "source": [
    "## Q5."
   ]
  },
  {
   "cell_type": "markdown",
   "id": "3c37f547-fb5a-4136-a9ed-978138de7b04",
   "metadata": {},
   "source": [
    "\"\"\"\n",
    "Primary Key :\n",
    " - A Primary Key is a column or a set of columns in a database table that uniquely identifies each record or row in that table.\n",
    " \n",
    "Foreign Key : \n",
    " - A Foreign Key is a column or a set of columns in a database table that establishes a link or relationship between two tables. \n",
    " \n",
    " \n",
    "A Primary Key uniquely identifies records within a single table, while a Foreign Key establishes relationships between tables by referring to the Primary Key of another table. \n",
    " \"\"\""
   ]
  },
  {
   "cell_type": "markdown",
   "id": "60209c7a-9377-433a-b04d-9c952118f2ce",
   "metadata": {},
   "source": [
    "## Q6."
   ]
  },
  {
   "cell_type": "markdown",
   "id": "754c73ae-a24a-4caf-afcc-389f51961114",
   "metadata": {},
   "source": [
    "\"\"\"\n",
    "- mysql-connector-python \n",
    "\n",
    "The cursor() method provides a way to interact with the database, while the execute() method is used to execute SQL statements through the cursor.\n",
    "\n",
    "\"\"\""
   ]
  },
  {
   "cell_type": "markdown",
   "id": "90f3c228-9303-4490-b85d-a1c57e9563ca",
   "metadata": {},
   "source": [
    "## Q7."
   ]
  },
  {
   "cell_type": "markdown",
   "id": "765b92bc-3fcc-4b4e-a811-e83990cac57c",
   "metadata": {},
   "source": [
    "\"\"\"\n",
    " - FROM: The FROM clause specifies the tables or data sources from which you are retrieving data. \n",
    " \n",
    " - WHERE: The WHERE clause filters the rows from the tables specified in the FROM clause. \n",
    " \n",
    " - GROUP BY :  It groups rows that share the same values in the specified columns, creating summary groups for aggregation.\n",
    " \n",
    " - HAVING: The HAVING clause is used in conjunction with the GROUP BY clause.\n",
    " \n",
    " - SELECT: The SELECT clause determines which columns and expressions will be included in the result set.\n",
    " \n",
    " - DISTINCT: If you use the DISTINCT keyword, it is applied after the SELECT clause, ensuring that the result set contains only distinct rows.\n",
    " \n",
    " - ORDER BY: The ORDER BY clause is used to sort the result set based on one or more columns.\n",
    " \n",
    " - LIMIT/OFFSET: If you want to limit the number of rows returned or implement pagination, the LIMIT and OFFSET clauses are applied last.\n",
    " \n",
    "\"\"\""
   ]
  }
 ],
 "metadata": {
  "kernelspec": {
   "display_name": "Python 3 (ipykernel)",
   "language": "python",
   "name": "python3"
  },
  "language_info": {
   "codemirror_mode": {
    "name": "ipython",
    "version": 3
   },
   "file_extension": ".py",
   "mimetype": "text/x-python",
   "name": "python",
   "nbconvert_exporter": "python",
   "pygments_lexer": "ipython3",
   "version": "3.10.8"
  }
 },
 "nbformat": 4,
 "nbformat_minor": 5
}
